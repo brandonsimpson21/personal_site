{
 "cells": [
  {
   "cell_type": "markdown",
   "metadata": {},
   "source": [
    "# Gaussian Processes\n"
   ]
  },
  {
   "cell_type": "code",
   "execution_count": null,
   "metadata": {},
   "outputs": [],
   "source": []
  },
  {
   "cell_type": "code",
   "execution_count": null,
   "metadata": {},
   "outputs": [],
   "source": []
  },
  {
   "cell_type": "markdown",
   "metadata": {},
   "source": [
    "Covariance is defined by:\n",
    "\n",
    "$$cov(X,Y) \\triangleq \\mathbb{E}[(X-\\mathbb{E}(X)) (Y-\\mathbb{E}(Y))] = \\mathbb{E}[XY]-\\mathbb{E}[X]\\mathbb{E}[Y]$$\n",
    "\n",
    "And the covariance matrix is given by:\n",
    "\n",
    "\\begin{bmatrix}\n",
    "var(x_1) & cov(x_1,x_2) & \\cdots & cov(x_1,x_d)\\\\\n",
    "cov(x_2,x_1) & var(x_2) & \\cdots & cov(x_2,x_d)\\\\\n",
    "\\vdots & \\vdots & \\ddots & \\vdots\\\\\n",
    "cov(x_d,x_1) & cov(x_d,x_2) & \\cdots & var(x_d)\n",
    "\\end{bmatrix\n",
    "\n",
    "Fact: The largest eigenvector of the covariance matrix points in the direction of of the largest variance of data and its magnitude is the eigenvalue.  "
   ]
  },
  {
   "cell_type": "code",
   "execution_count": null,
   "metadata": {},
   "outputs": [],
   "source": []
  },
  {
   "cell_type": "markdown",
   "metadata": {},
   "source": []
  },
  {
   "cell_type": "markdown",
   "metadata": {},
   "source": []
  },
  {
   "cell_type": "code",
   "execution_count": null,
   "metadata": {},
   "outputs": [],
   "source": []
  },
  {
   "cell_type": "markdown",
   "metadata": {},
   "source": [
    "The PDF of the MVN distribution is given by:\n",
    "\n",
    "\n",
    "$$\\mathcal{N}(x|\\mu,\\Sigma) \\triangleq \\frac{1}{(2\\pi)^{\\frac{D}{2}}|\\Sigma|^{\\frac{1}{2}}} \\mathcal{e}^{-\\frac{1}{2}(x-\\mu)^T \\Sigma^{-1}(x-\\mu)}$$"
   ]
  },
  {
   "cell_type": "markdown",
   "metadata": {},
   "source": []
  },
  {
   "cell_type": "markdown",
   "metadata": {},
   "source": [
    "## Mahalanobis distance"
   ]
  },
  {
   "cell_type": "markdown",
   "metadata": {},
   "source": [
    "Mahalanobis distance is a measure of the distance between a point and a distribution\n",
    "\n",
    "The Mahalanobis distance of an observation $\\vec{x}=(x_1,x_2,\\cdots, x_N)^T$ from a set of observations with mean $\\vec{\\mu}= (\\mu_1, \\mu_2, \\cdots , \\mu_N)^T$ is given by:\n",
    "\n",
    "$$D_M(\\vec{x}) = \\sqrt{(\\vec{x}-\\vec{\\mu})^T \\Sigma^{-1}(\\vec{x}-\\vec{\\mu})}$$\n",
    "\n",
    "This looks a lot like the value in the exponent of the PDF of the MVN"
   ]
  },
  {
   "cell_type": "code",
   "execution_count": null,
   "metadata": {},
   "outputs": [],
   "source": []
  },
  {
   "cell_type": "markdown",
   "metadata": {},
   "source": [
    "## Conditioning Gaussians"
   ]
  },
  {
   "cell_type": "markdown",
   "metadata": {},
   "source": [
    "Suppose $X=(x_1,x_2)$ is gointly gaussian with parameters:\n",
    "\n",
    "$$\\mu=\\left(\\begin{matrix}\\mu_1\\\\ \\mu_2\\end{matrix}\\right),\\hspace{1cm} \\Sigma = \\left(\\begin{matrix}\\Sigma_{1,1} & \\Sigma_{1,2} \\\\ \\Sigma_{2,1} & \\Sigma_{2,2}\\end{matrix}\\right), \\hspace{1cm}\\Lambda = \\Sigma^{-1} = \\left(\\begin{matrix} \\Lambda_{1,1}&\\Lambda_{1,2}\\\\ \\Lambda_{2,1} & \\Lambda_{2,2}\\end{matrix}\\right)$$\n",
    "$$$$\n",
    "\n",
    "Then the marginals are given by\n",
    "$$\n",
    "p(x_1)=\\mathcal{N}(x_1|\\mu_1,\\Sigma_{1,1})\\\\\n",
    "p(x_2) = \\mathcal{N}(x_2|\\mu_2,\\Sigma_{2,2})\n",
    "$$\n",
    "\n",
    "And the posterior conditionals are given by:\n",
    "\n",
    "\\begin{align}\n",
    "p(x_1|x_2)&=\\mathcal{N}(x_1|\\mu_{1|2},\\Sigma_{1|2})\\\\\n",
    "\\mu_{1|2} &= \\mu_1 + \\Sigma_{1,2}\\Sigma^{-1}_{2,2}(x_2-\\mu_2)\\\\\n",
    "&=\\Sigma_{1|2}(\\Lambda_{1,1}\\mu_1-\\Lambda_{1,2}(x_2-\\mu_2))\\\\\n",
    "\\Sigma_{1|2} &= \\Sigma_{1,1}-\\Sigma_{1,2}\\Sigma^{-1}_{2,2}\\Sigma_{2,1} = \\Lambda_{1,1}^{-1}\n",
    "\\end{align}"
   ]
  },
  {
   "cell_type": "code",
   "execution_count": null,
   "metadata": {},
   "outputs": [],
   "source": []
  },
  {
   "cell_type": "markdown",
   "metadata": {},
   "source": [
    "Let $f(x) \\sim GP(m(x), k(x,x^\\prime)$ where:\n",
    "\n",
    "\\begin{align}\n",
    "m(x) &= \\mathbb{E}[f(x)]\\\\\n",
    "k(x,x^\\prime) &= \\mathbb{E}[(f(x)-m(x))(f(x^\\prime)-m(x^\\prime))^T]\n",
    "\\end{align}\n",
    "\n",
    "where $k$ is a positive definite kernel.\n",
    "\n"
   ]
  },
  {
   "cell_type": "code",
   "execution_count": null,
   "metadata": {},
   "outputs": [],
   "source": []
  },
  {
   "cell_type": "code",
   "execution_count": null,
   "metadata": {},
   "outputs": [],
   "source": []
  }
 ],
 "metadata": {
  "kernelspec": {
   "display_name": "Python 3",
   "language": "python",
   "name": "python3"
  },
  "language_info": {
   "codemirror_mode": {
    "name": "ipython",
    "version": 3
   },
   "file_extension": ".py",
   "mimetype": "text/x-python",
   "name": "python",
   "nbconvert_exporter": "python",
   "pygments_lexer": "ipython3",
   "version": "3.8.5"
  }
 },
 "nbformat": 4,
 "nbformat_minor": 4
}
